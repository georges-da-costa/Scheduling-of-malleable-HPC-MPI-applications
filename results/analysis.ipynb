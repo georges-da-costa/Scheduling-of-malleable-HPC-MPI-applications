{
 "cells": [
  {
   "cell_type": "code",
   "execution_count": 1,
   "metadata": {
    "pycharm": {
     "name": "#%%\n"
    }
   },
   "outputs": [],
   "source": [
    "import csv\n",
    "from random import uniform\n",
    "\n",
    "import matplotlib.pyplot as plt\n",
    "from attr import dataclass, astuple\n",
    "\n",
    "@dataclass\n",
    "class Vector2i:\n",
    "    x: int = 0\n",
    "    y: int = 0\n",
    "\n",
    "\n",
    "@dataclass\n",
    "class Color:\n",
    "    r: float = 0\n",
    "    g: float = 0\n",
    "    b: float = 0\n",
    "    a: float = 1\n",
    "\n",
    "colors = {}\n",
    "\n",
    "def draw_rectangle(tl, size, color):\n",
    "    rectangle = plt.Rectangle((tl.x, tl.y), size.x, size.y, fc=astuple(color))\n",
    "    plt.gca().add_patch(rectangle)\n",
    "\n",
    "def read_experiment(seed, name, num):\n",
    "    with open(f\"./traces/seed_{seed}/{name}/experiment_{num}.csv\", 'r') as csvfile:\n",
    "        reader = csv.reader(csvfile)\n",
    "\n",
    "        plt.figure()\n",
    "        plt.subplot()\n",
    "\n",
    "        for line in reader:\n",
    "            job_id = line[0]\n",
    "            job_kind = line[1]\n",
    "            job_time_beg = line[2]\n",
    "            job_time_end = line[3]\n",
    "            job_server_id = line[4]\n",
    "\n",
    "            if job_id != \"SYSTEM\" and not job_id in colors.keys():\n",
    "                colors[job_id] = Color(uniform(0.25, 0.9), uniform(0.25, 0.9), uniform(0.25, 0.9), 1)\n",
    "\n",
    "            tl = Vector2i(int(float(job_time_beg)), int(float(job_server_id)))\n",
    "            size = Vector2i(int(float(job_time_end)) - int(float(job_time_beg)), 1)\n",
    "\n",
    "            if job_id == \"SYSTEM\":\n",
    "                if job_kind == \"JobSystemTurnOff\":\n",
    "                    color = Color(0.2, 0.2, 0.2)\n",
    "                elif job_kind == \"JobSystemTurnOn\":\n",
    "                    color = Color(0.4, 0.4, 0.4)\n",
    "                else:\n",
    "                    color = Color(0, 0, 0)\n",
    "            elif job_kind == \"JobReconfiguration\":\n",
    "                color = Color(colors[job_id].r, colors[job_id].g, colors[job_id].b, 0.5)\n",
    "            else:\n",
    "                color = colors[job_id]\n",
    "\n",
    "            draw_rectangle(tl=tl, size=size, color=color)\n",
    "\n",
    "        plt.ylabel(\"servers\")\n",
    "        plt.xlabel(\"time\")\n",
    "        plt.axis(\"auto\")\n",
    "        plt.show()"
   ]
  },
  {
   "cell_type": "code",
   "execution_count": 2,
   "metadata": {
    "pycharm": {
     "name": "#%%\n"
    }
   },
   "outputs": [
    {
     "data": {
      "image/png": "[encoded data removed]",
      "text/plain": [
       "<Figure size 432x288 with 1 Axes>"
      ]
     },
     "metadata": {
      "needs_background": "light"
     },
     "output_type": "display_data"
    }
   ],
   "source": [
    "#read_experiment(1, \"FIFO\", 0)\n",
    "#read_experiment(1, \"PURE\", 0)\n",
    "read_experiment(1,\"NEW_GA\",0)\n",
    "# read_experiment(1, \"FIFOMAX\", 0)\n",
    "# read_experiment(1, \"FIFORECONF\", 0)\n",
    "# read_experiment(1, \"FIFORECONFDOWN\", 0)\n",
    "# read_experiment(4, \"FIFORECONFUP\", 0)\n",
    "# read_experiment(1, \"FIFOREBOOT\", 0)\n",
    "# read_experiment(1, \"FIFODVFS\", 0)"
   ]
  },
  {
   "cell_type": "code",
   "execution_count": null,
   "metadata": {},
   "outputs": [],
   "source": []
  }
 ],
 "metadata": {
  "kernelspec": {
   "display_name": "Python 3",
   "language": "python",
   "name": "python3"
  },
  "language_info": {
   "codemirror_mode": {
    "name": "ipython",
    "version": 3
   },
   "file_extension": ".py",
   "mimetype": "text/x-python",
   "name": "python",
   "nbconvert_exporter": "python",
   "pygments_lexer": "ipython3",
   "version": "3.6.9"
  }
 },
 "nbformat": 4,
 "nbformat_minor": 1
}
